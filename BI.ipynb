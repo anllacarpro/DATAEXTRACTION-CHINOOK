{
 "cells": [
  {
   "cell_type": "code",
   "execution_count": 30,
   "metadata": {},
   "outputs": [
    {
     "name": "stdout",
     "output_type": "stream",
     "text": [
      "Collecting psycopg2-binary\n",
      "  Using cached psycopg2_binary-2.9.10-cp312-cp312-win_amd64.whl.metadata (5.0 kB)\n",
      "Using cached psycopg2_binary-2.9.10-cp312-cp312-win_amd64.whl (1.2 MB)\n",
      "Installing collected packages: psycopg2-binary\n",
      "Note: you may need to restart the kernel to use updated packages.\n"
     ]
    },
    {
     "name": "stderr",
     "output_type": "stream",
     "text": [
      "ERROR: Could not install packages due to an OSError: [WinError 5] Access is denied: 'c:\\\\Users\\\\alarc\\\\Desktop\\\\BI\\\\venv\\\\Lib\\\\site-packages\\\\psycopg2\\\\_psycopg.cp312-win_amd64.pyd'\n",
      "Check the permissions.\n",
      "\n"
     ]
    },
    {
     "name": "stdout",
     "output_type": "stream",
     "text": [
      "Requirement already satisfied: pandas in c:\\users\\alarc\\desktop\\bi\\venv\\lib\\site-packages (2.2.3)\n",
      "Requirement already satisfied: numpy>=1.26.0 in c:\\users\\alarc\\desktop\\bi\\venv\\lib\\site-packages (from pandas) (2.1.2)\n",
      "Requirement already satisfied: python-dateutil>=2.8.2 in c:\\users\\alarc\\desktop\\bi\\venv\\lib\\site-packages (from pandas) (2.9.0.post0)\n",
      "Requirement already satisfied: pytz>=2020.1 in c:\\users\\alarc\\desktop\\bi\\venv\\lib\\site-packages (from pandas) (2024.2)\n",
      "Requirement already satisfied: tzdata>=2022.7 in c:\\users\\alarc\\desktop\\bi\\venv\\lib\\site-packages (from pandas) (2024.2)\n",
      "Requirement already satisfied: six>=1.5 in c:\\users\\alarc\\desktop\\bi\\venv\\lib\\site-packages (from python-dateutil>=2.8.2->pandas) (1.16.0)\n",
      "Note: you may need to restart the kernel to use updated packages.\n",
      "Requirement already satisfied: matplotlib in c:\\users\\alarc\\desktop\\bi\\venv\\lib\\site-packages (3.9.2)\n",
      "Requirement already satisfied: contourpy>=1.0.1 in c:\\users\\alarc\\desktop\\bi\\venv\\lib\\site-packages (from matplotlib) (1.3.0)\n",
      "Requirement already satisfied: cycler>=0.10 in c:\\users\\alarc\\desktop\\bi\\venv\\lib\\site-packages (from matplotlib) (0.12.1)\n",
      "Requirement already satisfied: fonttools>=4.22.0 in c:\\users\\alarc\\desktop\\bi\\venv\\lib\\site-packages (from matplotlib) (4.54.1)\n",
      "Requirement already satisfied: kiwisolver>=1.3.1 in c:\\users\\alarc\\desktop\\bi\\venv\\lib\\site-packages (from matplotlib) (1.4.7)\n",
      "Requirement already satisfied: numpy>=1.23 in c:\\users\\alarc\\desktop\\bi\\venv\\lib\\site-packages (from matplotlib) (2.1.2)\n",
      "Requirement already satisfied: packaging>=20.0 in c:\\users\\alarc\\desktop\\bi\\venv\\lib\\site-packages (from matplotlib) (24.1)\n",
      "Requirement already satisfied: pillow>=8 in c:\\users\\alarc\\desktop\\bi\\venv\\lib\\site-packages (from matplotlib) (11.0.0)\n",
      "Requirement already satisfied: pyparsing>=2.3.1 in c:\\users\\alarc\\desktop\\bi\\venv\\lib\\site-packages (from matplotlib) (3.2.0)\n",
      "Requirement already satisfied: python-dateutil>=2.7 in c:\\users\\alarc\\desktop\\bi\\venv\\lib\\site-packages (from matplotlib) (2.9.0.post0)\n",
      "Requirement already satisfied: six>=1.5 in c:\\users\\alarc\\desktop\\bi\\venv\\lib\\site-packages (from python-dateutil>=2.7->matplotlib) (1.16.0)\n",
      "Note: you may need to restart the kernel to use updated packages.\n",
      "Requirement already satisfied: seaborn in c:\\users\\alarc\\desktop\\bi\\venv\\lib\\site-packages (0.13.2)\n",
      "Requirement already satisfied: numpy!=1.24.0,>=1.20 in c:\\users\\alarc\\desktop\\bi\\venv\\lib\\site-packages (from seaborn) (2.1.2)\n",
      "Requirement already satisfied: pandas>=1.2 in c:\\users\\alarc\\desktop\\bi\\venv\\lib\\site-packages (from seaborn) (2.2.3)\n",
      "Requirement already satisfied: matplotlib!=3.6.1,>=3.4 in c:\\users\\alarc\\desktop\\bi\\venv\\lib\\site-packages (from seaborn) (3.9.2)\n",
      "Requirement already satisfied: contourpy>=1.0.1 in c:\\users\\alarc\\desktop\\bi\\venv\\lib\\site-packages (from matplotlib!=3.6.1,>=3.4->seaborn) (1.3.0)\n",
      "Requirement already satisfied: cycler>=0.10 in c:\\users\\alarc\\desktop\\bi\\venv\\lib\\site-packages (from matplotlib!=3.6.1,>=3.4->seaborn) (0.12.1)\n",
      "Requirement already satisfied: fonttools>=4.22.0 in c:\\users\\alarc\\desktop\\bi\\venv\\lib\\site-packages (from matplotlib!=3.6.1,>=3.4->seaborn) (4.54.1)\n",
      "Requirement already satisfied: kiwisolver>=1.3.1 in c:\\users\\alarc\\desktop\\bi\\venv\\lib\\site-packages (from matplotlib!=3.6.1,>=3.4->seaborn) (1.4.7)\n",
      "Requirement already satisfied: packaging>=20.0 in c:\\users\\alarc\\desktop\\bi\\venv\\lib\\site-packages (from matplotlib!=3.6.1,>=3.4->seaborn) (24.1)\n",
      "Requirement already satisfied: pillow>=8 in c:\\users\\alarc\\desktop\\bi\\venv\\lib\\site-packages (from matplotlib!=3.6.1,>=3.4->seaborn) (11.0.0)\n",
      "Requirement already satisfied: pyparsing>=2.3.1 in c:\\users\\alarc\\desktop\\bi\\venv\\lib\\site-packages (from matplotlib!=3.6.1,>=3.4->seaborn) (3.2.0)\n",
      "Requirement already satisfied: python-dateutil>=2.7 in c:\\users\\alarc\\desktop\\bi\\venv\\lib\\site-packages (from matplotlib!=3.6.1,>=3.4->seaborn) (2.9.0.post0)\n",
      "Requirement already satisfied: pytz>=2020.1 in c:\\users\\alarc\\desktop\\bi\\venv\\lib\\site-packages (from pandas>=1.2->seaborn) (2024.2)\n",
      "Requirement already satisfied: tzdata>=2022.7 in c:\\users\\alarc\\desktop\\bi\\venv\\lib\\site-packages (from pandas>=1.2->seaborn) (2024.2)\n",
      "Requirement already satisfied: six>=1.5 in c:\\users\\alarc\\desktop\\bi\\venv\\lib\\site-packages (from python-dateutil>=2.7->matplotlib!=3.6.1,>=3.4->seaborn) (1.16.0)\n",
      "Note: you may need to restart the kernel to use updated packages.\n",
      "Collecting python-dotenvNote: you may need to restart the kernel to use updated packages.\n",
      "\n",
      "  Using cached python_dotenv-1.0.1-py3-none-any.whl.metadata (23 kB)\n",
      "Using cached python_dotenv-1.0.1-py3-none-any.whl (19 kB)\n",
      "Installing collected packages: python-dotenv\n",
      "Successfully installed python-dotenv-1.0.1\n"
     ]
    }
   ],
   "source": [
    "%pip install psycopg2-binary\n",
    "%pip install pandas \n",
    "%pip install matplotlib\n",
    "%pip install seaborn\n",
    "%pip install python-dotenv"
   ]
  },
  {
   "cell_type": "code",
   "execution_count": 31,
   "metadata": {},
   "outputs": [
    {
     "name": "stdout",
     "output_type": "stream",
     "text": [
      "Database Version: PostgreSQL 16.4 on aarch64-unknown-linux-gnu, compiled by gcc (GCC) 13.3.1 20240522 (Red Hat 13.3.1-1), 64-bit\n"
     ]
    }
   ],
   "source": [
    "import psycopg2\n",
    "import os\n",
    "from dotenv import load_dotenv\n",
    "\n",
    "def main():\n",
    "    # Load environment variables from the .env file\n",
    "    load_dotenv()\n",
    "\n",
    "    # Get the DATABASE_URL from the environment\n",
    "    database_url = os.getenv('DATABASE_URL')\n",
    "\n",
    "    # Connect to the PostgreSQL database\n",
    "    conn = psycopg2.connect(database_url)\n",
    "\n",
    "    # Example query\n",
    "    query_sql = 'SELECT VERSION()'\n",
    "\n",
    "    # Execute the query\n",
    "    cur = conn.cursor()\n",
    "    cur.execute(query_sql)\n",
    "\n",
    "    # Fetch the result\n",
    "    version = cur.fetchone()[0]\n",
    "    print(f\"Database Version: {version}\")\n",
    "\n",
    "    # Close the cursor and connection\n",
    "    cur.close()\n",
    "    conn.close()\n",
    "\n",
    "\n",
    "if __name__ == \"__main__\":\n",
    "    main()\n"
   ]
  },
  {
   "cell_type": "code",
   "execution_count": 32,
   "metadata": {},
   "outputs": [
    {
     "name": "stdout",
     "output_type": "stream",
     "text": [
      "Conexión exitosa a la base de datos\n"
     ]
    }
   ],
   "source": [
    "import psycopg2\n",
    "import pandas as pd\n",
    "from dotenv import load_dotenv\n",
    "\n",
    "# Conéctate a tu base de datos PostgreSQL\n",
    "try:\n",
    "    conn = psycopg2.connect(os.getenv('DATABASE_URL'))\n",
    "    print(\"Conexión exitosa a la base de datos\")\n",
    "except Exception as e:\n",
    "    print(f\"No se pudo conectar a la base de datos. Error: {e}\")\n"
   ]
  },
  {
   "cell_type": "code",
   "execution_count": 11,
   "metadata": {},
   "outputs": [
    {
     "name": "stderr",
     "output_type": "stream",
     "text": [
      "C:\\Users\\alarc\\AppData\\Local\\Temp\\ipykernel_18608\\2579750320.py:5: UserWarning: pandas only supports SQLAlchemy connectable (engine/connection) or database string URI or sqlite3 DBAPI2 connection. Other DBAPI2 objects are not tested. Please consider using SQLAlchemy.\n",
      "  df_invoice = pd.read_sql(query, conn)\n"
     ]
    },
    {
     "name": "stdout",
     "output_type": "stream",
     "text": [
      "   invoice_id  customer_id invoice_date          billing_address billing_city  \\\n",
      "0           1            2   2021-01-01  Theodor-Heuss-Straße 34    Stuttgart   \n",
      "1           2            4   2021-01-02         Ullevålsveien 14         Oslo   \n",
      "2           3            8   2021-01-03          Grétrystraat 63     Brussels   \n",
      "3           4           14   2021-01-06           8210 111 ST NW     Edmonton   \n",
      "4           5           23   2021-01-11          69 Salem Street       Boston   \n",
      "\n",
      "  billing_state billing_country billing_postal_code  total  \n",
      "0          None         Germany               70174   1.98  \n",
      "1          None          Norway                0171   3.96  \n",
      "2          None         Belgium                1000   5.94  \n",
      "3            AB          Canada             T6G 2C7   8.91  \n",
      "4            MA             USA                2113  13.86  \n"
     ]
    }
   ],
   "source": [
    "# Escribir tu consulta SQL\n",
    "query = \"SELECT * FROM invoice;\"\n",
    "\n",
    "# Ejecutar la consulta y cargarla en un DataFrame\n",
    "df_invoice = pd.read_sql(query, conn)\n",
    "\n",
    "# Mostrar los primeros 5 registros\n",
    "print(df_invoice.head())\n"
   ]
  },
  {
   "cell_type": "code",
   "execution_count": 12,
   "metadata": {},
   "outputs": [],
   "source": [
    "# Eliminar filas con valores nulos\n",
    "df_invoice_clean = df_invoice.dropna()\n",
    "\n",
    "# Eliminar duplicados\n",
    "df_invoice_clean = df_invoice.drop_duplicates()\n"
   ]
  },
  {
   "cell_type": "code",
   "execution_count": 13,
   "metadata": {},
   "outputs": [
    {
     "name": "stdout",
     "output_type": "stream",
     "text": [
      "    customer_id  total\n",
      "0             1  39.62\n",
      "1             2  37.62\n",
      "2             3  39.62\n",
      "3             4  39.62\n",
      "4             5  40.62\n",
      "5             6  49.62\n",
      "6             7  42.62\n",
      "7             8  37.62\n",
      "8             9  37.62\n",
      "9            10  37.62\n",
      "10           11  37.62\n",
      "11           12  37.62\n",
      "12           13  37.62\n",
      "13           14  37.62\n",
      "14           15  38.62\n",
      "15           16  37.62\n",
      "16           17  39.62\n",
      "17           18  37.62\n",
      "18           19  38.62\n",
      "19           20  39.62\n",
      "20           21  37.62\n",
      "21           22  39.62\n",
      "22           23  37.62\n",
      "23           24  43.62\n",
      "24           25  42.62\n",
      "25           26  47.62\n",
      "26           27  37.62\n",
      "27           28  43.62\n",
      "28           29  37.62\n",
      "29           30  37.62\n",
      "30           31  37.62\n",
      "31           32  37.62\n",
      "32           33  37.62\n",
      "33           34  39.62\n",
      "34           35  37.62\n",
      "35           36  37.62\n",
      "36           37  43.62\n",
      "37           38  37.62\n",
      "38           39  38.62\n",
      "39           40  38.62\n",
      "40           41  37.62\n",
      "41           42  39.62\n",
      "42           43  40.62\n",
      "43           44  41.62\n",
      "44           45  45.62\n",
      "45           46  45.62\n",
      "46           47  37.62\n",
      "47           48  40.62\n",
      "48           49  37.62\n",
      "49           50  37.62\n",
      "50           51  38.62\n",
      "51           52  37.62\n",
      "52           53  37.62\n",
      "53           54  37.62\n",
      "54           55  37.62\n",
      "55           56  37.62\n",
      "56           57  46.62\n",
      "57           58  38.62\n",
      "58           59  36.64\n"
     ]
    }
   ],
   "source": [
    "# Agrupar por cliente_id y sumar el total de las facturas\n",
    "df_total_by_customer = df_invoice.groupby('customer_id')['total'].sum().reset_index()\n",
    "\n",
    "# Mostrar el resultado\n",
    "print(df_total_by_customer)\n"
   ]
  },
  {
   "cell_type": "code",
   "execution_count": 14,
   "metadata": {},
   "outputs": [
    {
     "name": "stdout",
     "output_type": "stream",
     "text": [
      "   invoice_id  customer_id invoice_date          billing_address billing_city  \\\n",
      "0           1            2   2021-01-01  Theodor-Heuss-Straße 34    Stuttgart   \n",
      "1           2            4   2021-01-02         Ullevålsveien 14         Oslo   \n",
      "2           3            8   2021-01-03          Grétrystraat 63     Brussels   \n",
      "3           4           14   2021-01-06           8210 111 ST NW     Edmonton   \n",
      "4           5           23   2021-01-11          69 Salem Street       Boston   \n",
      "\n",
      "  billing_state billing_country billing_postal_code  total first_name  ...  \\\n",
      "0          None         Germany               70174   1.98     Leonie  ...   \n",
      "1          None          Norway                0171   3.96      Bjørn  ...   \n",
      "2          None         Belgium                1000   5.94       Daan  ...   \n",
      "3            AB          Canada             T6G 2C7   8.91       Mark  ...   \n",
      "4            MA             USA                2113  13.86       John  ...   \n",
      "\n",
      "  company                  address       city state  country postal_code  \\\n",
      "0    None  Theodor-Heuss-Straße 34  Stuttgart  None  Germany       70174   \n",
      "1    None         Ullevålsveien 14       Oslo  None   Norway        0171   \n",
      "2    None          Grétrystraat 63   Brussels  None  Belgium        1000   \n",
      "3   Telus           8210 111 ST NW   Edmonton    AB   Canada     T6G 2C7   \n",
      "4    None          69 Salem Street     Boston    MA      USA        2113   \n",
      "\n",
      "               phone                fax                   email support_rep_id  \n",
      "0   +49 0711 2842222               None   leonekohler@surfeu.de              5  \n",
      "1    +47 22 44 22 22               None   bjorn.hansen@yahoo.no              4  \n",
      "2   +32 02 219 03 03               None   daan_peeters@apple.be              4  \n",
      "3  +1 (780) 434-4554  +1 (780) 434-5565      mphilips12@shaw.ca              5  \n",
      "4  +1 (617) 522-1333               None  johngordon22@yahoo.com              4  \n",
      "\n",
      "[5 rows x 21 columns]\n"
     ]
    },
    {
     "name": "stderr",
     "output_type": "stream",
     "text": [
      "C:\\Users\\alarc\\AppData\\Local\\Temp\\ipykernel_18608\\4260178332.py:3: UserWarning: pandas only supports SQLAlchemy connectable (engine/connection) or database string URI or sqlite3 DBAPI2 connection. Other DBAPI2 objects are not tested. Please consider using SQLAlchemy.\n",
      "  df_customers = pd.read_sql(query_customers, conn)\n"
     ]
    }
   ],
   "source": [
    "# Consulta para obtener los clientes\n",
    "query_customers = \"SELECT * FROM customer;\"\n",
    "df_customers = pd.read_sql(query_customers, conn)\n",
    "\n",
    "# Unir ambas tablas por customer_id\n",
    "df_merged = pd.merge(df_invoice, df_customers, on='customer_id')\n",
    "\n",
    "# Mostrar el resultado\n",
    "print(df_merged.head())\n"
   ]
  },
  {
   "cell_type": "code",
   "execution_count": 16,
   "metadata": {},
   "outputs": [
    {
     "data": {
      "image/png": "[encoded data removed]",
      "text/plain": [
       "<Figure size 1000x600 with 1 Axes>"
      ]
     },
     "metadata": {},
     "output_type": "display_data"
    }
   ],
   "source": [
    "import matplotlib.pyplot as plt\n",
    "import seaborn as sns\n",
    "\n",
    "# Gráfico de barras de los ingresos por cliente\n",
    "plt.figure(figsize=(10,6))\n",
    "sns.barplot(x='customer_id', y='total', data=df_total_by_customer)\n",
    "plt.title('Total de ingresos por cliente')\n",
    "plt.show()\n"
   ]
  },
  {
   "cell_type": "code",
   "execution_count": 42,
   "metadata": {},
   "outputs": [
    {
     "name": "stderr",
     "output_type": "stream",
     "text": [
      "C:\\Users\\alarc\\AppData\\Local\\Temp\\ipykernel_18608\\1299987630.py:15: UserWarning: pandas only supports SQLAlchemy connectable (engine/connection) or database string URI or sqlite3 DBAPI2 connection. Other DBAPI2 objects are not tested. Please consider using SQLAlchemy.\n",
      "  df_ventas_por_cliente = pd.read_sql(query_ventas_por_cliente, conn)\n"
     ]
    },
    {
     "name": "stdout",
     "output_type": "stream",
     "text": [
      "   customer_id first_name last_name                  email invoice_date  \\\n",
      "0            2     Leonie    Köhler  leonekohler@surfeu.de   2021-01-01   \n",
      "1            2     Leonie    Köhler  leonekohler@surfeu.de   2021-01-01   \n",
      "2            4      Bjørn    Hansen  bjorn.hansen@yahoo.no   2021-01-02   \n",
      "3            4      Bjørn    Hansen  bjorn.hansen@yahoo.no   2021-01-02   \n",
      "4            4      Bjørn    Hansen  bjorn.hansen@yahoo.no   2021-01-02   \n",
      "\n",
      "   total  quantity  unit_price  track_id             track_name  \n",
      "0   1.98         1        0.99         2      Balls to the Wall  \n",
      "1   1.98         1        0.99         4      Restless and Wild  \n",
      "2   3.96         1        0.99         6  Put The Finger On You  \n",
      "3   3.96         1        0.99         8       Inject The Venom  \n",
      "4   3.96         1        0.99        10             Evil Walks  \n"
     ]
    }
   ],
   "source": [
    "query_ventas_por_cliente = \"\"\"\n",
    "SELECT \n",
    "    c.customer_id,  -- Incluimos el ID del cliente\n",
    "    c.first_name, c.last_name, c.email, \n",
    "    i.invoice_date, i.total, \n",
    "    il.quantity, il.unit_price, \n",
    "    t.track_id,\n",
    "    t.name as track_name\n",
    "FROM \n",
    "    customer c\n",
    "JOIN invoice i ON c.customer_id = i.customer_id\n",
    "JOIN invoice_line il ON i.invoice_id = il.invoice_id\n",
    "JOIN track t ON il.track_id = t.track_id;\n",
    "\"\"\"\n",
    "df_ventas_por_cliente = pd.read_sql(query_ventas_por_cliente, conn)\n",
    "print(df_ventas_por_cliente.head())"
   ]
  },
  {
   "cell_type": "code",
   "execution_count": 35,
   "metadata": {},
   "outputs": [
    {
     "name": "stderr",
     "output_type": "stream",
     "text": [
      "C:\\Users\\alarc\\AppData\\Local\\Temp\\ipykernel_18608\\2397620914.py:17: UserWarning: pandas only supports SQLAlchemy connectable (engine/connection) or database string URI or sqlite3 DBAPI2 connection. Other DBAPI2 objects are not tested. Please consider using SQLAlchemy.\n",
      "  df_ventas_por_artista_album = pd.read_sql(query_ventas_por_artista_album, conn)\n"
     ]
    },
    {
     "name": "stdout",
     "output_type": "stream",
     "text": [
      "   artist_id  album_id                     artist_name  \\\n",
      "0        158       253  Battlestar Galactica (Classic)   \n",
      "1        156       251                      The Office   \n",
      "2         17        23                   Chico Buarque   \n",
      "3        149       231                            Lost   \n",
      "4        148       228                          Heroes   \n",
      "\n",
      "                                album_title  total_sales  \n",
      "0  Battlestar Galactica (Classic), Season 1        35.82  \n",
      "1                      The Office, Season 3        31.84  \n",
      "2                            Minha Historia        26.73  \n",
      "3                            Lost, Season 2        25.87  \n",
      "4                          Heroes, Season 1        25.87  \n"
     ]
    }
   ],
   "source": [
    "query_ventas_por_artista_album = \"\"\"\n",
    "SELECT \n",
    "    a.artist_id,  -- Incluimos el ID del artista\n",
    "    al.album_id,  -- Incluimos el ID del álbum\n",
    "    a.name as artist_name, \n",
    "    al.title as album_title, \n",
    "    SUM(il.unit_price * il.quantity) as total_sales\n",
    "FROM \n",
    "    artist a\n",
    "JOIN album al ON a.artist_id = al.artist_id\n",
    "JOIN track t ON al.album_id = t.album_id\n",
    "JOIN invoice_line il ON t.track_id = il.track_id\n",
    "GROUP BY a.artist_id, al.album_id, a.name, al.title\n",
    "ORDER BY total_sales DESC;\n",
    "\"\"\"\n",
    "\n",
    "df_ventas_por_artista_album = pd.read_sql(query_ventas_por_artista_album, conn)\n",
    "print(df_ventas_por_artista_album.head())\n"
   ]
  },
  {
   "cell_type": "code",
   "execution_count": 36,
   "metadata": {},
   "outputs": [
    {
     "name": "stdout",
     "output_type": "stream",
     "text": [
      "   genre_id          genre_name  total_sales\n",
      "0         1                Rock       826.65\n",
      "1         7               Latin       382.14\n",
      "2         3               Metal       261.36\n",
      "3         4  Alternative & Punk       241.56\n",
      "4        19            TV Shows        93.53\n"
     ]
    },
    {
     "name": "stderr",
     "output_type": "stream",
     "text": [
      "C:\\Users\\alarc\\AppData\\Local\\Temp\\ipykernel_18608\\2905761222.py:14: UserWarning: pandas only supports SQLAlchemy connectable (engine/connection) or database string URI or sqlite3 DBAPI2 connection. Other DBAPI2 objects are not tested. Please consider using SQLAlchemy.\n",
      "  df_ventas_por_genero = pd.read_sql(query_ventas_por_genero, conn)\n"
     ]
    }
   ],
   "source": [
    "query_ventas_por_genero = \"\"\"\n",
    "SELECT \n",
    "    g.genre_id,  -- Incluimos el ID del género\n",
    "    g.name as genre_name, \n",
    "    SUM(il.unit_price * il.quantity) as total_sales\n",
    "FROM \n",
    "    genre g\n",
    "JOIN track t ON g.genre_id = t.genre_id\n",
    "JOIN invoice_line il ON t.track_id = il.track_id\n",
    "GROUP BY g.genre_id, g.name\n",
    "ORDER BY total_sales DESC;\n",
    "\"\"\"\n",
    "\n",
    "df_ventas_por_genero = pd.read_sql(query_ventas_por_genero, conn)\n",
    "print(df_ventas_por_genero.head())\n"
   ]
  },
  {
   "cell_type": "code",
   "execution_count": 37,
   "metadata": {},
   "outputs": [
    {
     "name": "stdout",
     "output_type": "stream",
     "text": [
      "  invoice_date  total_revenue\n",
      "0   2021-01-01           1.98\n",
      "1   2021-01-02           3.96\n",
      "2   2021-01-03           5.94\n",
      "3   2021-01-06           8.91\n",
      "4   2021-01-11          13.86\n"
     ]
    },
    {
     "name": "stderr",
     "output_type": "stream",
     "text": [
      "C:\\Users\\alarc\\AppData\\Local\\Temp\\ipykernel_18608\\2381474565.py:12: UserWarning: pandas only supports SQLAlchemy connectable (engine/connection) or database string URI or sqlite3 DBAPI2 connection. Other DBAPI2 objects are not tested. Please consider using SQLAlchemy.\n",
      "  df_ingresos_por_fecha = pd.read_sql(query_ingresos_por_fecha, conn)\n"
     ]
    }
   ],
   "source": [
    "query_ingresos_por_fecha = \"\"\"\n",
    "SELECT \n",
    "    i.invoice_date, \n",
    "    SUM(i.total) as total_revenue\n",
    "FROM \n",
    "    invoice i\n",
    "GROUP BY i.invoice_date\n",
    "ORDER BY i.invoice_date;\n",
    "\"\"\"\n",
    "\n",
    "\n",
    "df_ingresos_por_fecha = pd.read_sql(query_ingresos_por_fecha, conn)\n",
    "print(df_ingresos_por_fecha.head())\n"
   ]
  },
  {
   "cell_type": "code",
   "execution_count": 38,
   "metadata": {},
   "outputs": [
    {
     "name": "stdout",
     "output_type": "stream",
     "text": [
      "   customer_id         country        city  total_sales\n",
      "0            6  Czech Republic      Prague        49.62\n",
      "1           26             USA  Fort Worth        47.62\n",
      "2           57           Chile    Santiago        46.62\n",
      "3           45         Hungary    Budapest        45.62\n",
      "4           46         Ireland      Dublin        45.62\n"
     ]
    },
    {
     "name": "stderr",
     "output_type": "stream",
     "text": [
      "C:\\Users\\alarc\\AppData\\Local\\Temp\\ipykernel_18608\\2733607543.py:14: UserWarning: pandas only supports SQLAlchemy connectable (engine/connection) or database string URI or sqlite3 DBAPI2 connection. Other DBAPI2 objects are not tested. Please consider using SQLAlchemy.\n",
      "  df_ventas_por_pais_ciudad = pd.read_sql(query_ventas_por_pais_ciudad, conn)\n"
     ]
    }
   ],
   "source": [
    "query_ventas_por_pais_ciudad = \"\"\"\n",
    "SELECT \n",
    "    c.customer_id,  -- Incluimos el ID del cliente\n",
    "    c.country, c.city, \n",
    "    SUM(i.total) as total_sales\n",
    "FROM \n",
    "    customer c\n",
    "JOIN invoice i ON c.customer_id = i.customer_id\n",
    "GROUP BY c.customer_id, c.country, c.city\n",
    "ORDER BY total_sales DESC;\n",
    "\"\"\"\n",
    "\n",
    "\n",
    "df_ventas_por_pais_ciudad = pd.read_sql(query_ventas_por_pais_ciudad, conn)\n",
    "print(df_ventas_por_pais_ciudad.head())\n"
   ]
  },
  {
   "cell_type": "code",
   "execution_count": 39,
   "metadata": {},
   "outputs": [
    {
     "name": "stderr",
     "output_type": "stream",
     "text": [
      "C:\\Users\\alarc\\AppData\\Local\\Temp\\ipykernel_18608\\1954082876.py:15: UserWarning: pandas only supports SQLAlchemy connectable (engine/connection) or database string URI or sqlite3 DBAPI2 connection. Other DBAPI2 objects are not tested. Please consider using SQLAlchemy.\n",
      "  df_productos_mas_vendidos = pd.read_sql(query_productos_mas_vendidos, conn)\n"
     ]
    },
    {
     "name": "stdout",
     "output_type": "stream",
     "text": [
      "   track_id                 track_name  total_sold  total_revenue\n",
      "0       449           Calling Dr. Love           2           1.98\n",
      "1      2959  Hallelujah Here She Comes           2           1.98\n",
      "2      3177                   Hot Girl           2           3.98\n",
      "3      1853                    Battery           2           1.98\n",
      "4       867                       Açai           2           1.98\n"
     ]
    }
   ],
   "source": [
    "query_productos_mas_vendidos = \"\"\"\n",
    "SELECT \n",
    "    t.track_id,  -- Incluimos el ID de la canción (track)\n",
    "    t.name as track_name, \n",
    "    SUM(il.quantity) as total_sold, \n",
    "    SUM(il.unit_price * il.quantity) as total_revenue\n",
    "FROM \n",
    "    track t\n",
    "JOIN invoice_line il ON t.track_id = il.track_id\n",
    "GROUP BY t.track_id, t.name\n",
    "ORDER BY total_sold DESC;\n",
    "\"\"\"\n",
    "\n",
    "\n",
    "df_productos_mas_vendidos = pd.read_sql(query_productos_mas_vendidos, conn)\n",
    "print(df_productos_mas_vendidos.head())\n"
   ]
  },
  {
   "cell_type": "code",
   "execution_count": 40,
   "metadata": {},
   "outputs": [
    {
     "name": "stdout",
     "output_type": "stream",
     "text": [
      "   employee_id first_name last_name                title  total_sales\n",
      "0            3       Jane   Peacock  Sales Support Agent       833.04\n",
      "1            4   Margaret      Park  Sales Support Agent       775.40\n",
      "2            5      Steve   Johnson  Sales Support Agent       720.16\n"
     ]
    },
    {
     "name": "stderr",
     "output_type": "stream",
     "text": [
      "C:\\Users\\alarc\\AppData\\Local\\Temp\\ipykernel_18608\\3872845799.py:15: UserWarning: pandas only supports SQLAlchemy connectable (engine/connection) or database string URI or sqlite3 DBAPI2 connection. Other DBAPI2 objects are not tested. Please consider using SQLAlchemy.\n",
      "  df_ingresos_por_empleado = pd.read_sql(query_ingresos_por_empleado, conn)\n"
     ]
    }
   ],
   "source": [
    "query_ingresos_por_empleado = \"\"\"\n",
    "SELECT \n",
    "    e.employee_id,  -- Incluimos el ID del empleado\n",
    "    e.first_name, e.last_name, e.title, \n",
    "    SUM(i.total) as total_sales\n",
    "FROM \n",
    "    employee e\n",
    "JOIN customer c ON e.employee_id = c.support_rep_id\n",
    "JOIN invoice i ON c.customer_id = i.customer_id\n",
    "GROUP BY e.employee_id, e.first_name, e.last_name, e.title\n",
    "ORDER BY total_sales DESC;\n",
    "\"\"\"\n",
    "\n",
    "\n",
    "df_ingresos_por_empleado = pd.read_sql(query_ingresos_por_empleado, conn)\n",
    "print(df_ingresos_por_empleado.head())\n"
   ]
  },
  {
   "cell_type": "code",
   "execution_count": 43,
   "metadata": {},
   "outputs": [],
   "source": [
    "# Exportar todos los reportes a CSV\n",
    "df_ventas_por_cliente.to_csv('ventas_por_cliente.csv', index=False)\n",
    "df_ventas_por_artista_album.to_csv('ventas_por_artista_album.csv', index=False)\n",
    "df_ventas_por_genero.to_csv('ventas_por_genero.csv', index=False)\n",
    "df_ingresos_por_fecha.to_csv('ingresos_por_fecha.csv', index=False)\n",
    "df_ventas_por_pais_ciudad.to_csv('ventas_por_pais_ciudad.csv', index=False)\n",
    "df_productos_mas_vendidos.to_csv('productos_mas_vendidos.csv', index=False)\n",
    "df_ingresos_por_empleado.to_csv('ingresos_por_empleado.csv', index=False)\n"
   ]
  }
 ],
 "metadata": {
  "kernelspec": {
   "display_name": "venv",
   "language": "python",
   "name": "python3"
  },
  "language_info": {
   "codemirror_mode": {
    "name": "ipython",
    "version": 3
   },
   "file_extension": ".py",
   "mimetype": "text/x-python",
   "name": "python",
   "nbconvert_exporter": "python",
   "pygments_lexer": "ipython3",
   "version": "3.12.7"
  }
 },
 "nbformat": 4,
 "nbformat_minor": 2
}
